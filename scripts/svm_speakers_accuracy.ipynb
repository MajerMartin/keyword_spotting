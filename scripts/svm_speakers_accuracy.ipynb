{
 "cells": [
  {
   "cell_type": "code",
   "execution_count": 1,
   "metadata": {
    "collapsed": true
   },
   "outputs": [],
   "source": [
    "import os\n",
    "import numpy as np\n",
    "import common as common\n",
    "import svm_utilities as svm"
   ]
  },
  {
   "cell_type": "code",
   "execution_count": 2,
   "metadata": {
    "collapsed": false
   },
   "outputs": [
    {
     "name": "stdout",
     "output_type": "stream",
     "text": [
      "Current directory:\t/Users/martin.majer/PycharmProjects/BP/scripts\n",
      "Results directory:\t/Users/martin.majer/PycharmProjects/BP/scripts/../results\n",
      "Data directory:\t\t/Users/martin.majer/PycharmProjects/BP/scripts/../data\n",
      "Samples directory:\t/Users/martin.majer/PycharmProjects/BP/scripts/../data/segmented\n",
      "Dist. mat. directory:\t/Users/martin.majer/PycharmProjects/BP/scripts/../data/distance_matrices/dtw\n"
     ]
    }
   ],
   "source": [
    "current_dir = os.getcwd()\n",
    "results_dir = os.path.join(current_dir, '..', 'results')\n",
    "data_dir = os.path.join(current_dir, '..', 'data')\n",
    "samples_dir = os.path.join(data_dir, 'segmented')\n",
    "dm_dir = os.path.join(data_dir, 'distance_matrices', 'dtw')\n",
    "\n",
    "print 'Current directory:\\t', current_dir\n",
    "print 'Results directory:\\t', results_dir\n",
    "print 'Data directory:\\t\\t', data_dir\n",
    "print 'Samples directory:\\t', samples_dir\n",
    "print 'Dist. mat. directory:\\t', dm_dir\n",
    "\n",
    "references = common.load_references(samples_dir)\n",
    "speakers = [str(x + 1) for x in xrange(6)]"
   ]
  },
  {
   "cell_type": "code",
   "execution_count": 3,
   "metadata": {
    "collapsed": true
   },
   "outputs": [],
   "source": [
    "fts_norm = ['ste_10_10_norm', 'sti_10_10_norm', 'stzcr_10_10_norm', 'ste_sti_stzcr_10_10_norm', 'log_fb_en_25_10_ham_norm', 'log_fb_en_25_10_ham_deltas_norm', 'mfcc_25_10_ham_norm', 'mfcc_25_10_ham_deltas_norm']"
   ]
  },
  {
   "cell_type": "markdown",
   "metadata": {},
   "source": [
    "## Single speaker"
   ]
  },
  {
   "cell_type": "code",
   "execution_count": 4,
   "metadata": {
    "collapsed": false
   },
   "outputs": [
    {
     "data": {
      "text/html": [
       "<div>\n",
       "<table border=\"1\" class=\"dataframe\">\n",
       "  <thead>\n",
       "    <tr style=\"text-align: right;\">\n",
       "      <th></th>\n",
       "      <th>1</th>\n",
       "      <th>2</th>\n",
       "      <th>3</th>\n",
       "      <th>4</th>\n",
       "      <th>5</th>\n",
       "      <th>6</th>\n",
       "      <th>Mean</th>\n",
       "    </tr>\n",
       "  </thead>\n",
       "  <tbody>\n",
       "    <tr>\n",
       "      <th>log_fb_en_25_10_ham_deltas_norm</th>\n",
       "      <td>60.000000</td>\n",
       "      <td>46.666667</td>\n",
       "      <td>20.000000</td>\n",
       "      <td>20.000000</td>\n",
       "      <td>26.666667</td>\n",
       "      <td>30.000000</td>\n",
       "      <td>33.888889</td>\n",
       "    </tr>\n",
       "    <tr>\n",
       "      <th>log_fb_en_25_10_ham_norm</th>\n",
       "      <td>80.000000</td>\n",
       "      <td>90.000000</td>\n",
       "      <td>80.000000</td>\n",
       "      <td>83.333333</td>\n",
       "      <td>76.666667</td>\n",
       "      <td>86.666667</td>\n",
       "      <td>82.777778</td>\n",
       "    </tr>\n",
       "    <tr>\n",
       "      <th>mfcc_25_10_ham_deltas_norm</th>\n",
       "      <td>60.000000</td>\n",
       "      <td>46.666667</td>\n",
       "      <td>30.000000</td>\n",
       "      <td>30.000000</td>\n",
       "      <td>26.666667</td>\n",
       "      <td>36.666667</td>\n",
       "      <td>38.333333</td>\n",
       "    </tr>\n",
       "    <tr>\n",
       "      <th>mfcc_25_10_ham_norm</th>\n",
       "      <td>70.000000</td>\n",
       "      <td>56.666667</td>\n",
       "      <td>76.666667</td>\n",
       "      <td>76.666667</td>\n",
       "      <td>70.000000</td>\n",
       "      <td>73.333333</td>\n",
       "      <td>70.555556</td>\n",
       "    </tr>\n",
       "    <tr>\n",
       "      <th>ste_10_10_norm</th>\n",
       "      <td>60.000000</td>\n",
       "      <td>33.333333</td>\n",
       "      <td>46.666667</td>\n",
       "      <td>43.333333</td>\n",
       "      <td>50.000000</td>\n",
       "      <td>53.333333</td>\n",
       "      <td>47.777778</td>\n",
       "    </tr>\n",
       "    <tr>\n",
       "      <th>ste_sti_stzcr_10_10_norm</th>\n",
       "      <td>90.000000</td>\n",
       "      <td>76.666667</td>\n",
       "      <td>73.333333</td>\n",
       "      <td>60.000000</td>\n",
       "      <td>66.666667</td>\n",
       "      <td>73.333333</td>\n",
       "      <td>73.333333</td>\n",
       "    </tr>\n",
       "    <tr>\n",
       "      <th>sti_10_10_norm</th>\n",
       "      <td>73.333333</td>\n",
       "      <td>40.000000</td>\n",
       "      <td>43.333333</td>\n",
       "      <td>60.000000</td>\n",
       "      <td>53.333333</td>\n",
       "      <td>66.666667</td>\n",
       "      <td>56.111111</td>\n",
       "    </tr>\n",
       "    <tr>\n",
       "      <th>stzcr_10_10_norm</th>\n",
       "      <td>60.000000</td>\n",
       "      <td>63.333333</td>\n",
       "      <td>53.333333</td>\n",
       "      <td>50.000000</td>\n",
       "      <td>40.000000</td>\n",
       "      <td>50.000000</td>\n",
       "      <td>52.777778</td>\n",
       "    </tr>\n",
       "  </tbody>\n",
       "</table>\n",
       "</div>"
      ],
      "text/plain": [
       "                                         1          2          3          4  \\\n",
       "log_fb_en_25_10_ham_deltas_norm  60.000000  46.666667  20.000000  20.000000   \n",
       "log_fb_en_25_10_ham_norm         80.000000  90.000000  80.000000  83.333333   \n",
       "mfcc_25_10_ham_deltas_norm       60.000000  46.666667  30.000000  30.000000   \n",
       "mfcc_25_10_ham_norm              70.000000  56.666667  76.666667  76.666667   \n",
       "ste_10_10_norm                   60.000000  33.333333  46.666667  43.333333   \n",
       "ste_sti_stzcr_10_10_norm         90.000000  76.666667  73.333333  60.000000   \n",
       "sti_10_10_norm                   73.333333  40.000000  43.333333  60.000000   \n",
       "stzcr_10_10_norm                 60.000000  63.333333  53.333333  50.000000   \n",
       "\n",
       "                                         5          6       Mean  \n",
       "log_fb_en_25_10_ham_deltas_norm  26.666667  30.000000  33.888889  \n",
       "log_fb_en_25_10_ham_norm         76.666667  86.666667  82.777778  \n",
       "mfcc_25_10_ham_deltas_norm       26.666667  36.666667  38.333333  \n",
       "mfcc_25_10_ham_norm              70.000000  73.333333  70.555556  \n",
       "ste_10_10_norm                   50.000000  53.333333  47.777778  \n",
       "ste_sti_stzcr_10_10_norm         66.666667  73.333333  73.333333  \n",
       "sti_10_10_norm                   53.333333  66.666667  56.111111  \n",
       "stzcr_10_10_norm                 40.000000  50.000000  52.777778  "
      ]
     },
     "execution_count": 4,
     "metadata": {},
     "output_type": "execute_result"
    }
   ],
   "source": [
    "features = fts_norm\n",
    "accuracy_data = {}\n",
    "\n",
    "for feature in features:\n",
    "    distance_matrix, ref_keys_all, test_keys_all = common.get_data(dm_dir, feature)\n",
    "    \n",
    "    feature_accuracies = []\n",
    "    \n",
    "    for speaker in speakers:\n",
    "        ref_keys = common.get_speaker_keys(ref_keys_all, speaker)\n",
    "        test_keys = common.get_speaker_keys(test_keys_all, speaker)\n",
    "        \n",
    "        X = svm.dict_to_array(ref_keys, ref_keys, distance_matrix)\n",
    "        y = svm.get_targets(ref_keys, references)\n",
    "        \n",
    "        z = svm.dict_to_array(ref_keys, test_keys, distance_matrix)\n",
    "        ref = svm.get_targets(test_keys, references)\n",
    "        \n",
    "        pred = svm.fit_and_predict(X, y, z)\n",
    "        acc = svm.calculate_accuracy(pred, ref)\n",
    "        feature_accuracies.append(acc)\n",
    "\n",
    "    feature_accuracies.append(np.mean(feature_accuracies))\n",
    "    accuracy_data[feature] = feature_accuracies\n",
    "\n",
    "svm_single = common.create_dataframe(accuracy_data, speakers + ['Mean'])\n",
    "svm_single    "
   ]
  },
  {
   "cell_type": "code",
   "execution_count": 5,
   "metadata": {
    "collapsed": true
   },
   "outputs": [],
   "source": [
    "csv_name = os.path.join(results_dir, 'svm_single_speaker.csv')\n",
    "\n",
    "with open(csv_name, 'w') as fw:\n",
    "    svm_single.to_csv(fw)"
   ]
  },
  {
   "cell_type": "markdown",
   "metadata": {},
   "source": [
    "## All speakers"
   ]
  },
  {
   "cell_type": "code",
   "execution_count": 6,
   "metadata": {
    "collapsed": false
   },
   "outputs": [
    {
     "data": {
      "text/html": [
       "<div>\n",
       "<table border=\"1\" class=\"dataframe\">\n",
       "  <thead>\n",
       "    <tr style=\"text-align: right;\">\n",
       "      <th></th>\n",
       "      <th>All speakers</th>\n",
       "    </tr>\n",
       "  </thead>\n",
       "  <tbody>\n",
       "    <tr>\n",
       "      <th>log_fb_en_25_10_ham_deltas_norm</th>\n",
       "      <td>30.000000</td>\n",
       "    </tr>\n",
       "    <tr>\n",
       "      <th>log_fb_en_25_10_ham_norm</th>\n",
       "      <td>74.444444</td>\n",
       "    </tr>\n",
       "    <tr>\n",
       "      <th>mfcc_25_10_ham_deltas_norm</th>\n",
       "      <td>33.333333</td>\n",
       "    </tr>\n",
       "    <tr>\n",
       "      <th>mfcc_25_10_ham_norm</th>\n",
       "      <td>52.777778</td>\n",
       "    </tr>\n",
       "    <tr>\n",
       "      <th>ste_10_10_norm</th>\n",
       "      <td>29.444444</td>\n",
       "    </tr>\n",
       "    <tr>\n",
       "      <th>ste_sti_stzcr_10_10_norm</th>\n",
       "      <td>76.111111</td>\n",
       "    </tr>\n",
       "    <tr>\n",
       "      <th>sti_10_10_norm</th>\n",
       "      <td>46.111111</td>\n",
       "    </tr>\n",
       "    <tr>\n",
       "      <th>stzcr_10_10_norm</th>\n",
       "      <td>53.333333</td>\n",
       "    </tr>\n",
       "  </tbody>\n",
       "</table>\n",
       "</div>"
      ],
      "text/plain": [
       "                                 All speakers\n",
       "log_fb_en_25_10_ham_deltas_norm     30.000000\n",
       "log_fb_en_25_10_ham_norm            74.444444\n",
       "mfcc_25_10_ham_deltas_norm          33.333333\n",
       "mfcc_25_10_ham_norm                 52.777778\n",
       "ste_10_10_norm                      29.444444\n",
       "ste_sti_stzcr_10_10_norm            76.111111\n",
       "sti_10_10_norm                      46.111111\n",
       "stzcr_10_10_norm                    53.333333"
      ]
     },
     "execution_count": 6,
     "metadata": {},
     "output_type": "execute_result"
    }
   ],
   "source": [
    "features = fts_norm\n",
    "accuracy_data = {}\n",
    "\n",
    "for feature in features:\n",
    "    distance_matrix, ref_keys_all, test_keys_all = common.get_data(dm_dir, feature)\n",
    "    \n",
    "    ref_keys = []\n",
    "    test_keys = []\n",
    "    \n",
    "    for speaker in speakers:\n",
    "        ref_keys.extend(common.get_speaker_keys(ref_keys_all, speaker))\n",
    "        test_keys.extend(common.get_speaker_keys(test_keys_all, speaker))\n",
    "        \n",
    "    X = svm.dict_to_array(ref_keys, ref_keys, distance_matrix)\n",
    "    y = svm.get_targets(ref_keys, references)\n",
    "        \n",
    "    z = svm.dict_to_array(ref_keys, test_keys, distance_matrix)\n",
    "    ref = svm.get_targets(test_keys, references)\n",
    "        \n",
    "    pred = svm.fit_and_predict(X, y, z)\n",
    "    acc = svm.calculate_accuracy(pred, ref)\n",
    "    \n",
    "    accuracy_data[feature] = acc\n",
    "\n",
    "svm_all = common.create_dataframe(accuracy_data, ['All speakers'])\n",
    "svm_all    "
   ]
  },
  {
   "cell_type": "code",
   "execution_count": 7,
   "metadata": {
    "collapsed": true
   },
   "outputs": [],
   "source": [
    "csv_name = os.path.join(results_dir, 'svm_all_speakers.csv')\n",
    "\n",
    "with open(csv_name, 'w') as fw:\n",
    "    svm_all.to_csv(fw)"
   ]
  }
 ],
 "metadata": {
  "kernelspec": {
   "display_name": "Python 2",
   "language": "python",
   "name": "python2"
  },
  "language_info": {
   "codemirror_mode": {
    "name": "ipython",
    "version": 2
   },
   "file_extension": ".py",
   "mimetype": "text/x-python",
   "name": "python",
   "nbconvert_exporter": "python",
   "pygments_lexer": "ipython2",
   "version": "2.7.11"
  }
 },
 "nbformat": 4,
 "nbformat_minor": 0
}
